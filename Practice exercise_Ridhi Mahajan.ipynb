{
 "cells": [
  {
   "cell_type": "code",
   "execution_count": 2,
   "id": "2a6c7d6c",
   "metadata": {},
   "outputs": [
    {
     "name": "stdout",
     "output_type": "stream",
     "text": [
      "17\n"
     ]
    }
   ],
   "source": [
    "#Addition\n",
    "print(7+10)"
   ]
  },
  {
   "cell_type": "code",
   "execution_count": 3,
   "id": "430e17de",
   "metadata": {},
   "outputs": [
    {
     "name": "stdout",
     "output_type": "stream",
     "text": [
      "10\n",
      "0\n",
      "15\n",
      "5.0\n"
     ]
    }
   ],
   "source": [
    "#Addition\n",
    "print(5+5)\n",
    "#subtraction\n",
    "print(5-5)\n",
    "#Multiplication\n",
    "print(3*5)\n",
    "#division\n",
    "print(10/2)\n"
   ]
  },
  {
   "cell_type": "code",
   "execution_count": 4,
   "id": "deebef1a",
   "metadata": {},
   "outputs": [
    {
     "name": "stdout",
     "output_type": "stream",
     "text": [
      "3\n"
     ]
    }
   ],
   "source": [
    "#Remainder\n",
    "print(10%7)\n"
   ]
  },
  {
   "cell_type": "code",
   "execution_count": 5,
   "id": "cc476218",
   "metadata": {},
   "outputs": [
    {
     "name": "stdout",
     "output_type": "stream",
     "text": [
      "16\n"
     ]
    }
   ],
   "source": [
    "#power of a number\n",
    "print(4**2)"
   ]
  },
  {
   "cell_type": "code",
   "execution_count": 11,
   "id": "868c60a0",
   "metadata": {},
   "outputs": [
    {
     "name": "stdout",
     "output_type": "stream",
     "text": [
      "1750.0000000000002\n",
      "6750.0\n"
     ]
    }
   ],
   "source": [
    "#4a\n",
    "P=5000\n",
    "r=0.07\n",
    "t=5\n",
    "SI=P*r*t\n",
    "print(SI)\n",
    "TV=I+P\n",
    "print(TV)"
   ]
  },
  {
   "cell_type": "code",
   "execution_count": 12,
   "id": "43437f41",
   "metadata": {},
   "outputs": [
    {
     "name": "stdout",
     "output_type": "stream",
     "text": [
      "7.0\n"
     ]
    }
   ],
   "source": [
    "#4b\n",
    "P=8000\n",
    "r=8.7/100\n",
    "SI=4872\n",
    "t=SI/(P*r)\n",
    "print(t)"
   ]
  },
  {
   "cell_type": "code",
   "execution_count": 15,
   "id": "2b6ab936",
   "metadata": {},
   "outputs": [
    {
     "name": "stdout",
     "output_type": "stream",
     "text": [
      "6.4\n"
     ]
    }
   ],
   "source": [
    "#4c\n",
    "P=3000\n",
    "t=4\n",
    "SI=768\n",
    "r=SI/(P*t)*100\n",
    "print(r)"
   ]
  },
  {
   "cell_type": "code",
   "execution_count": 19,
   "id": "22c0f223",
   "metadata": {},
   "outputs": [
    {
     "name": "stdout",
     "output_type": "stream",
     "text": [
      "194.87171000000012\n"
     ]
    }
   ],
   "source": [
    "#5\n",
    "print(100*(1+(10/100))**7)"
   ]
  },
  {
   "cell_type": "code",
   "execution_count": 18,
   "id": "9574abe6",
   "metadata": {},
   "outputs": [
    {
     "name": "stdout",
     "output_type": "stream",
     "text": [
      "100\n"
     ]
    }
   ],
   "source": [
    "#Exercise 2\n",
    "#1\n",
    "savings=100\n",
    "print(savings)"
   ]
  },
  {
   "cell_type": "code",
   "execution_count": 24,
   "id": "2e932c89",
   "metadata": {},
   "outputs": [
    {
     "name": "stdout",
     "output_type": "stream",
     "text": [
      "110.00000000000001\n"
     ]
    }
   ],
   "source": [
    "#2\n",
    "savings=100\n",
    "growth_multiplier=1.1\n",
    "result= savings*growth_multiplier\n",
    "print(result)"
   ]
  },
  {
   "cell_type": "code",
   "execution_count": 29,
   "id": "c718e24b",
   "metadata": {},
   "outputs": [
    {
     "name": "stdout",
     "output_type": "stream",
     "text": [
      "<class 'str'>\n",
      "<class 'bool'>\n"
     ]
    }
   ],
   "source": [
    "#3\n",
    "#create a variable desc\n",
    "desc=\"Compound interest\"\n",
    "#create a variable profitable\n",
    "profitable=True\n",
    "print(type(desc))\n",
    "print(type(profitable))"
   ]
  },
  {
   "cell_type": "code",
   "execution_count": 22,
   "id": "3d7c92ef",
   "metadata": {},
   "outputs": [
    {
     "ename": "NameError",
     "evalue": "name 'false' is not defined",
     "output_type": "error",
     "traceback": [
      "\u001b[1;31m---------------------------------------------------------------------------\u001b[0m",
      "\u001b[1;31mNameError\u001b[0m                                 Traceback (most recent call last)",
      "\u001b[1;32m<ipython-input-22-c330e8884046>\u001b[0m in \u001b[0;36m<module>\u001b[1;34m\u001b[0m\n\u001b[0;32m      2\u001b[0m \u001b[0mA\u001b[0m\u001b[1;33m=\u001b[0m\u001b[1;36m10.7\u001b[0m\u001b[1;33m\u001b[0m\u001b[1;33m\u001b[0m\u001b[0m\n\u001b[0;32m      3\u001b[0m \u001b[0mB\u001b[0m\u001b[1;33m=\u001b[0m\u001b[1;34m\"This is pyhton course\"\u001b[0m\u001b[1;33m\u001b[0m\u001b[1;33m\u001b[0m\u001b[0m\n\u001b[1;32m----> 4\u001b[1;33m \u001b[0mC\u001b[0m\u001b[1;33m=\u001b[0m\u001b[0mfalse\u001b[0m\u001b[1;33m\u001b[0m\u001b[1;33m\u001b[0m\u001b[0m\n\u001b[0m\u001b[0;32m      5\u001b[0m \u001b[0mtype\u001b[0m\u001b[1;33m(\u001b[0m\u001b[0mA\u001b[0m\u001b[1;33m)\u001b[0m\u001b[1;33m\u001b[0m\u001b[1;33m\u001b[0m\u001b[0m\n\u001b[0;32m      6\u001b[0m \u001b[0mtype\u001b[0m\u001b[1;33m(\u001b[0m\u001b[0mB\u001b[0m\u001b[1;33m)\u001b[0m\u001b[1;33m\u001b[0m\u001b[1;33m\u001b[0m\u001b[0m\n",
      "\u001b[1;31mNameError\u001b[0m: name 'false' is not defined"
     ]
    }
   ],
   "source": [
    "#4\n",
    "#Assign value to A,B and c\n",
    "A=10.7\n",
    "B=\"This is pyhton course\"\n",
    "C=false\n",
    "#checking the type of A,B and C\n",
    "type(A)\n",
    "type(B)\n",
    "type(C)"
   ]
  },
  {
   "cell_type": "code",
   "execution_count": 34,
   "id": "a646d4bb",
   "metadata": {},
   "outputs": [
    {
     "name": "stdout",
     "output_type": "stream",
     "text": [
      "110.00000000000001\n",
      "<class 'float'>\n",
      "Compound interestCompound interest\n"
     ]
    }
   ],
   "source": [
    "#5\n",
    "savings=100\n",
    "growth_multiplier=1.1\n",
    "#Assign product of growth multiplier and savings to yearl\n",
    "year1=savings*growth_multiplier\n",
    "#print the type of yearl\n",
    "print(year1)\n",
    "print(type(year1))\n",
    "#assigne sum of desc and desc to doubledesc\n",
    "doubledesc=desc+desc\n",
    "#print out doubledesc\n",
    "print(doubledesc)"
   ]
  },
  {
   "cell_type": "code",
   "execution_count": 36,
   "id": "d827440b",
   "metadata": {},
   "outputs": [
    {
     "name": "stdout",
     "output_type": "stream",
     "text": [
      "I started with $100and now I have $194.87171000000012. Awesome\n"
     ]
    }
   ],
   "source": [
    "#6\n",
    "#Defination of savings and result\n",
    "savings=100\n",
    "result=100*1.10**7\n",
    "#Fix the printout using str()\n",
    "print(\"I started with $\" + str(savings)+\"and now I have $\"+str(result)+\". Awesome\")"
   ]
  },
  {
   "cell_type": "code",
   "execution_count": 38,
   "id": "3a81e42f",
   "metadata": {},
   "outputs": [
    {
     "name": "stdout",
     "output_type": "stream",
     "text": [
      "3.1415926\n",
      "3.1415926\n",
      "6.2831852\n"
     ]
    }
   ],
   "source": [
    "#7\n",
    "#defination of pi string\n",
    "pi_string=\"3.1415926\"\n",
    "print(pi_string)\n",
    "#convert pi string into float\n",
    "pi_float=float(pi_string)\n",
    "print(pi_float)\n",
    "#multiply by 2 to save the value in double_pi\n",
    "double_pi=pi_float*2\n",
    "print(double_pi)"
   ]
  },
  {
   "cell_type": "code",
   "execution_count": 39,
   "id": "68c6daf1",
   "metadata": {
    "scrolled": true
   },
   "outputs": [
    {
     "ename": "TypeError",
     "evalue": "can only concatenate str (not \"int\") to str",
     "output_type": "error",
     "traceback": [
      "\u001b[1;31m---------------------------------------------------------------------------\u001b[0m",
      "\u001b[1;31mTypeError\u001b[0m                                 Traceback (most recent call last)",
      "\u001b[1;32m<ipython-input-39-2854ebefe588>\u001b[0m in \u001b[0;36m<module>\u001b[1;34m\u001b[0m\n\u001b[0;32m      3\u001b[0m \u001b[1;34m\"I can add integers, like \"\u001b[0m \u001b[1;33m+\u001b[0m\u001b[0mstr\u001b[0m\u001b[1;33m(\u001b[0m\u001b[1;36m5\u001b[0m\u001b[1;33m)\u001b[0m\u001b[1;33m+\u001b[0m \u001b[1;34m\"to strings\"\u001b[0m\u001b[1;33m\u001b[0m\u001b[1;33m\u001b[0m\u001b[0m\n\u001b[0;32m      4\u001b[0m \u001b[1;34m\"I said \"\u001b[0m \u001b[1;33m+\u001b[0m\u001b[1;33m(\u001b[0m\u001b[1;34m\"hey \"\u001b[0m\u001b[1;33m*\u001b[0m\u001b[1;36m2\u001b[0m\u001b[1;33m)\u001b[0m\u001b[1;33m+\u001b[0m\u001b[1;34m\"hey!\"\u001b[0m\u001b[1;33m\u001b[0m\u001b[1;33m\u001b[0m\u001b[0m\n\u001b[1;32m----> 5\u001b[1;33m \u001b[1;34m\"the incorrect answer to this multiple choice exercise is answer number \"\u001b[0m \u001b[1;33m+\u001b[0m \u001b[1;36m2\u001b[0m\u001b[1;33m\u001b[0m\u001b[1;33m\u001b[0m\u001b[0m\n\u001b[0m\u001b[0;32m      6\u001b[0m \u001b[0mtrue\u001b[0m\u001b[1;33m+\u001b[0m\u001b[0mfalse\u001b[0m\u001b[1;33m\u001b[0m\u001b[1;33m\u001b[0m\u001b[0m\n",
      "\u001b[1;31mTypeError\u001b[0m: can only concatenate str (not \"int\") to str"
     ]
    }
   ],
   "source": [
    "#8\n",
    "#finding errors\n",
    "\"I can add integers, like \" +str(5)+ \"to strings\"\n",
    "\"I said \" +(\"hey \"*2)+\"hey!\"\n",
    "\"the incorrect answer to this multiple choice exercise is answer number \" + 2\n",
    "true+false"
   ]
  },
  {
   "cell_type": "code",
   "execution_count": 1,
   "id": "8eeaf456",
   "metadata": {
    "scrolled": true
   },
   "outputs": [
    {
     "ename": "IndentationError",
     "evalue": "expected an indented block (<ipython-input-1-30045311358a>, line 6)",
     "output_type": "error",
     "traceback": [
      "\u001b[1;36m  File \u001b[1;32m\"<ipython-input-1-30045311358a>\"\u001b[1;36m, line \u001b[1;32m6\u001b[0m\n\u001b[1;33m    print(n, \" is even\")\u001b[0m\n\u001b[1;37m    ^\u001b[0m\n\u001b[1;31mIndentationError\u001b[0m\u001b[1;31m:\u001b[0m expected an indented block\n"
     ]
    }
   ],
   "source": [
    "#Excercise 3\n",
    "#1\n",
    "#Checking whether number is even or odd\n",
    "n=int(input(\"Enter number \"))\n",
    "if n%2==0:\n",
    "print(n, \" is even\")\n",
    "else :\n",
    "print(n, \" is odd\")"
   ]
  },
  {
   "cell_type": "code",
   "execution_count": 2,
   "id": "77adada5",
   "metadata": {},
   "outputs": [
    {
     "name": "stdout",
     "output_type": "stream",
     "text": [
      "Enter C Temp30\n",
      "86.0\n"
     ]
    }
   ],
   "source": [
    "#2\n",
    "inp=input('Enter C Temp')\n",
    "c1=float(inp)\n",
    "f=(c1*1.8)+32\n",
    "print(f)"
   ]
  },
  {
   "cell_type": "code",
   "execution_count": 3,
   "id": "a3b7073a",
   "metadata": {},
   "outputs": [
    {
     "name": "stdout",
     "output_type": "stream",
     "text": [
      "Area of triangle is:  34.662434637515005\n"
     ]
    }
   ],
   "source": [
    "#3 - area of a triangle\n",
    "import math\n",
    "a=4\n",
    "b=3\n",
    "c=6\n",
    "s=(a+b+c)/2\n",
    "Ar= s*(math.sqrt(s*(s-a)*(s-b)*(s-c)))\n",
    "print(\"Area of triangle is: \", Ar)"
   ]
  },
  {
   "cell_type": "code",
   "execution_count": 4,
   "id": "8f0085bf",
   "metadata": {},
   "outputs": [
    {
     "name": "stdout",
     "output_type": "stream",
     "text": [
      "enter radius os a circle: 3\n",
      "circumferrence of a circle will be  18.84955592153876\n"
     ]
    }
   ],
   "source": [
    "#4\n",
    "import math\n",
    "r=float(input(\"enter radius os a circle: \"))\n",
    "print(\"circumferrence of a circle will be \", 2*r*(math.pi))"
   ]
  },
  {
   "cell_type": "code",
   "execution_count": 6,
   "id": "a40ba11e",
   "metadata": {},
   "outputs": [
    {
     "name": "stdout",
     "output_type": "stream",
     "text": [
      "Enter number to be checked: 65\n",
      "65  is a multiple of 5\n"
     ]
    }
   ],
   "source": [
    "#5\n",
    "n=int(input(\"Enter number to be checked: \"))\n",
    "if n%5==0:\n",
    "    print(n, \" is a multiple of 5\")\n",
    "else :\n",
    "    print(n, \" is not a multiple of 5\")"
   ]
  },
  {
   "cell_type": "code",
   "execution_count": null,
   "id": "4a415df6",
   "metadata": {},
   "outputs": [],
   "source": []
  }
 ],
 "metadata": {
  "kernelspec": {
   "display_name": "Python 3",
   "language": "python",
   "name": "python3"
  },
  "language_info": {
   "codemirror_mode": {
    "name": "ipython",
    "version": 3
   },
   "file_extension": ".py",
   "mimetype": "text/x-python",
   "name": "python",
   "nbconvert_exporter": "python",
   "pygments_lexer": "ipython3",
   "version": "3.8.8"
  }
 },
 "nbformat": 4,
 "nbformat_minor": 5
}
